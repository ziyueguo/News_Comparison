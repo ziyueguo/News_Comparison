{
 "cells": [
  {
   "cell_type": "code",
   "execution_count": 208,
   "metadata": {},
   "outputs": [],
   "source": [
    "import pandas as pd\n",
    "import matplotlib.pyplot as plt\n",
    "import numpy as np\n",
    "%matplotlib inline\n",
    "from sklearn.cluster import KMeans\n",
    "from mlxtend.frequent_patterns import apriori\n",
    "from mlxtend.preprocessing import TransactionEncoder\n",
    "import scipy"
   ]
  },
  {
   "cell_type": "code",
   "execution_count": 12,
   "metadata": {},
   "outputs": [],
   "source": [
    "def frequency (words):\n",
    "    '''\n",
    "    find the frequency of words in a list\n",
    "    \n",
    "    input: an list of words\n",
    "    \n",
    "    return: dictionary of frequenct\n",
    "    '''\n",
    "    \n",
    "    series = pd.Series(words)\n",
    "    counts = series.value_counts()\n",
    "    freq = counts / len(series)\n",
    "    \n",
    "    return freq.to_dict()\n",
    "\n",
    "def to_english(string):\n",
    "    '''\n",
    "    convert non english characters to english\n",
    "    \n",
    "    input: string that may include non english characters\n",
    "    \n",
    "    return: normalized english string\n",
    "    \n",
    "    '''\n",
    "    import unicodedata\n",
    "    return ''.join(c for c in unicodedata.normalize('NFD', string) if unicodedata.category(c) != 'Mn')\n",
    "\n",
    "def fun(char):\n",
    "    '''\n",
    "    filter function, is used to delete all puntuation\n",
    "    \n",
    "    '''\n",
    "    filters = [' ']\n",
    "    for i in range(97, 123):\n",
    "        filters.append(chr(i))\n",
    "    if char in filters:\n",
    "        return True\n",
    "    else:\n",
    "        return False\n",
    "    \n",
    "def splite_words(string):\n",
    "    '''\n",
    "    convert string of article to words\n",
    "    \n",
    "    input: string (article)\n",
    "    \n",
    "    return: list of words\n",
    "    '''\n",
    "    data = to_english(string)\n",
    "    data = data.lower()\n",
    "    data = ''.join(filter(fun, data))\n",
    "    data = data.split()\n",
    "    \n",
    "    return data\n",
    "\n",
    "df_all = pd.read_csv('unigram_freq.csv')\n",
    "dict_all = dict(zip(df_all.word, df_all.word_count))\n",
    "\n",
    "def frequency (article):\n",
    "    '''\n",
    "    find the frequency of words in an article\n",
    "    \n",
    "    input: a string of article\n",
    "    \n",
    "    return: dictionary of frequenct\n",
    "    '''\n",
    "    \n",
    "    words = splite_words(article)\n",
    "    series = pd.Series(words)\n",
    "    counts = series.value_counts()\n",
    "    freq = counts / len(series)\n",
    "    \n",
    "    return freq.to_dict(), counts.to_dict()\n",
    "\n",
    "def exclude_frequent_words(original_article, frequent_words):\n",
    "    '''\n",
    "    exclude the frequent words from the splitted original article\n",
    "    \n",
    "    :param original_article: a list of words from the splitted original articla\n",
    "    :param frequent_words: a list of chosen frequent_words\n",
    "    \n",
    "    return a list of words of the article with frequent words being excluded\n",
    "    '''\n",
    "    excluded = []\n",
    "    for word in original_article:\n",
    "        if word not in frequent_words:\n",
    "            excluded.append(word)\n",
    "    return excluded\n",
    "\n",
    "def ff(filename):\n",
    "    with open(filename, 'r') as file:\n",
    "        data = file.read()\n",
    "    data = frequency(data)\n",
    "    \n",
    "    new_dict = {}\n",
    "    words = (list(data.keys()))\n",
    "    for i in words:\n",
    "        try:\n",
    "            new_dict[i] = data[i] / dict_all[i]\n",
    "        except:\n",
    "            new_dict[i] = 0\n",
    "    \n",
    "    return new_dict"
   ]
  },
  {
   "cell_type": "code",
   "execution_count": 15,
   "metadata": {},
   "outputs": [
    {
     "data": {
      "text/html": [
       "<div>\n",
       "<style scoped>\n",
       "    .dataframe tbody tr th:only-of-type {\n",
       "        vertical-align: middle;\n",
       "    }\n",
       "\n",
       "    .dataframe tbody tr th {\n",
       "        vertical-align: top;\n",
       "    }\n",
       "\n",
       "    .dataframe thead th {\n",
       "        text-align: right;\n",
       "    }\n",
       "</style>\n",
       "<table border=\"1\" class=\"dataframe\">\n",
       "  <thead>\n",
       "    <tr style=\"text-align: right;\">\n",
       "      <th></th>\n",
       "      <th>word</th>\n",
       "      <th>word_count</th>\n",
       "      <th>freq</th>\n",
       "    </tr>\n",
       "  </thead>\n",
       "  <tbody>\n",
       "    <tr>\n",
       "      <td>209</td>\n",
       "      <td>united</td>\n",
       "      <td>299280163</td>\n",
       "      <td>0.000509</td>\n",
       "    </tr>\n",
       "    <tr>\n",
       "      <td>210</td>\n",
       "      <td>hotel</td>\n",
       "      <td>297974790</td>\n",
       "      <td>0.000507</td>\n",
       "    </tr>\n",
       "    <tr>\n",
       "      <td>211</td>\n",
       "      <td>real</td>\n",
       "      <td>297674493</td>\n",
       "      <td>0.000506</td>\n",
       "    </tr>\n",
       "    <tr>\n",
       "      <td>212</td>\n",
       "      <td>f</td>\n",
       "      <td>297285731</td>\n",
       "      <td>0.000505</td>\n",
       "    </tr>\n",
       "    <tr>\n",
       "      <td>213</td>\n",
       "      <td>item</td>\n",
       "      <td>296534935</td>\n",
       "      <td>0.000504</td>\n",
       "    </tr>\n",
       "    <tr>\n",
       "      <td>214</td>\n",
       "      <td>international</td>\n",
       "      <td>295639201</td>\n",
       "      <td>0.000503</td>\n",
       "    </tr>\n",
       "    <tr>\n",
       "      <td>215</td>\n",
       "      <td>center</td>\n",
       "      <td>294319118</td>\n",
       "      <td>0.000500</td>\n",
       "    </tr>\n",
       "    <tr>\n",
       "      <td>216</td>\n",
       "      <td>ebay</td>\n",
       "      <td>293178760</td>\n",
       "      <td>0.000498</td>\n",
       "    </tr>\n",
       "    <tr>\n",
       "      <td>217</td>\n",
       "      <td>must</td>\n",
       "      <td>292774716</td>\n",
       "      <td>0.000498</td>\n",
       "    </tr>\n",
       "    <tr>\n",
       "      <td>218</td>\n",
       "      <td>store</td>\n",
       "      <td>291308910</td>\n",
       "      <td>0.000495</td>\n",
       "    </tr>\n",
       "    <tr>\n",
       "      <td>219</td>\n",
       "      <td>travel</td>\n",
       "      <td>287719294</td>\n",
       "      <td>0.000489</td>\n",
       "    </tr>\n",
       "    <tr>\n",
       "      <td>220</td>\n",
       "      <td>comments</td>\n",
       "      <td>287558448</td>\n",
       "      <td>0.000489</td>\n",
       "    </tr>\n",
       "    <tr>\n",
       "      <td>221</td>\n",
       "      <td>made</td>\n",
       "      <td>287353021</td>\n",
       "      <td>0.000489</td>\n",
       "    </tr>\n",
       "    <tr>\n",
       "      <td>222</td>\n",
       "      <td>development</td>\n",
       "      <td>286291411</td>\n",
       "      <td>0.000487</td>\n",
       "    </tr>\n",
       "    <tr>\n",
       "      <td>223</td>\n",
       "      <td>report</td>\n",
       "      <td>286237372</td>\n",
       "      <td>0.000487</td>\n",
       "    </tr>\n",
       "    <tr>\n",
       "      <td>224</td>\n",
       "      <td>off</td>\n",
       "      <td>284035693</td>\n",
       "      <td>0.000483</td>\n",
       "    </tr>\n",
       "    <tr>\n",
       "      <td>225</td>\n",
       "      <td>member</td>\n",
       "      <td>283858893</td>\n",
       "      <td>0.000483</td>\n",
       "    </tr>\n",
       "    <tr>\n",
       "      <td>226</td>\n",
       "      <td>details</td>\n",
       "      <td>280827841</td>\n",
       "      <td>0.000477</td>\n",
       "    </tr>\n",
       "    <tr>\n",
       "      <td>227</td>\n",
       "      <td>line</td>\n",
       "      <td>280009597</td>\n",
       "      <td>0.000476</td>\n",
       "    </tr>\n",
       "    <tr>\n",
       "      <td>228</td>\n",
       "      <td>terms</td>\n",
       "      <td>277705910</td>\n",
       "      <td>0.000472</td>\n",
       "    </tr>\n",
       "  </tbody>\n",
       "</table>\n",
       "</div>"
      ],
      "text/plain": [
       "              word  word_count      freq\n",
       "209         united   299280163  0.000509\n",
       "210          hotel   297974790  0.000507\n",
       "211           real   297674493  0.000506\n",
       "212              f   297285731  0.000505\n",
       "213           item   296534935  0.000504\n",
       "214  international   295639201  0.000503\n",
       "215         center   294319118  0.000500\n",
       "216           ebay   293178760  0.000498\n",
       "217           must   292774716  0.000498\n",
       "218          store   291308910  0.000495\n",
       "219         travel   287719294  0.000489\n",
       "220       comments   287558448  0.000489\n",
       "221           made   287353021  0.000489\n",
       "222    development   286291411  0.000487\n",
       "223         report   286237372  0.000487\n",
       "224            off   284035693  0.000483\n",
       "225         member   283858893  0.000483\n",
       "226        details   280827841  0.000477\n",
       "227           line   280009597  0.000476\n",
       "228          terms   277705910  0.000472"
      ]
     },
     "execution_count": 15,
     "metadata": {},
     "output_type": "execute_result"
    }
   ],
   "source": [
    "df_all = pd.read_csv('unigram_freq.csv')\n",
    "s = df_all['word_count'].sum()\n",
    "df_all['freq'] = df_all['word_count'] / s\n",
    "df_all = df_all[df_all['word_count'] < 300000000]\n",
    "df_all.head(60)\n",
    "#dict_all = dict(zip(df_all.word, df_all.freq))"
   ]
  },
  {
   "cell_type": "code",
   "execution_count": 30,
   "metadata": {},
   "outputs": [
    {
     "name": "stdout",
     "output_type": "stream",
     "text": [
      "  word   word_count\n",
      "0  the  23135851162\n",
      "1   of  13151942776\n",
      "2  and  12997637966\n",
      "3   to  12136980858\n",
      "4    a   9081174698\n"
     ]
    }
   ],
   "source": [
    "df1 = pd.read_csv('unigram_freq.csv')\n",
    "df1.head()\n",
    "total_count = df1['word_count'].sum()\n",
    "df1 = df1[df1['word_count'] > total_count/4e6]\n",
    "\n",
    "dict_all = pd.Series(df1.word_count.values / total_count, index = df1.word).to_dict()\n",
    "\n",
    "#print ('word     frequency')\n",
    "#for i in list(dict_all.keys()):\n",
    "#    print (i, ':', dict_all[i])\n",
    "\n",
    "print (df1.head())"
   ]
  },
  {
   "cell_type": "code",
   "execution_count": 136,
   "metadata": {},
   "outputs": [
    {
     "data": {
      "image/png": "[encoded data removed]",
      "text/plain": [
       "<Figure size 432x288 with 1 Axes>"
      ]
     },
     "metadata": {
      "needs_background": "light"
     },
     "output_type": "display_data"
    }
   ],
   "source": [
    "k = 500\n",
    "l = 10\n",
    "y = []\n",
    "x = np.linspace(l, k, k-l)\n",
    "for i in range(l,k):\n",
    "    y.append(df1['word_count'][i])\n",
    "plt.plot(np.log(x), np.log(y))\n",
    "plt.scatter\n",
    "plt.scatter(np.log(24), np.log(y[14]), c = 'g')\n",
    "plt.scatter(np.log(25), np.log(y[15]), c = 'g')\n",
    "plt.scatter(np.log(210), np.log(y[200]), c = 'r')\n",
    "#plt.plot(x, y)\n",
    "plt.xlabel('log (rank of frequency)')\n",
    "plt.ylabel('log (word counts)')\n",
    "\n",
    "plt.savefig('plot/' + 'word_count_loglog.png')"
   ]
  },
  {
   "cell_type": "code",
   "execution_count": 139,
   "metadata": {},
   "outputs": [
    {
     "data": {
      "image/png": "[encoded data removed]",
      "text/plain": [
       "<Figure size 432x288 with 1 Axes>"
      ]
     },
     "metadata": {
      "needs_background": "light"
     },
     "output_type": "display_data"
    }
   ],
   "source": [
    "plt.plot(x, y)\n",
    "plt.xlabel('rank of frequency')\n",
    "plt.ylabel('word counts')\n",
    "plt.savefig('plot/' + 'word_count_linear.png')"
   ]
  },
  {
   "cell_type": "code",
   "execution_count": 24,
   "metadata": {},
   "outputs": [],
   "source": [
    "#print(wei_freq[0][\"California recovers $23M from auto parts makers' bid rigging\"])\n",
    "keys = list(count[7].keys())\n",
    "counts = list(count[7].values())\n",
    "d = {'words': keys, 'counts': counts}\n",
    "df_counts = pd.DataFrame(d, columns = ['words', 'counts'])\n",
    "#max_word = df_counts[df_counts['counts'] == df_counts['counts'].max()]\n",
    "#print(max_word['words'].to_list()[0])\n",
    "df_sorted = df_counts.sort_values(by=['counts'], ascending=False)"
   ]
  },
  {
   "cell_type": "code",
   "execution_count": 41,
   "metadata": {},
   "outputs": [],
   "source": [
    "pos = 'result_csv/'\n",
    "files = ['ABC_Business.csv', 'ABC_Politics.csv', 'ABC_US.csv', 'BBC_Business.csv', 'BBC_Politics.csv', 'BBC_US_Canada.csv', 'CNN_Business.csv', 'CNN_Politics.csv', 'CNN_US.csv']\n",
    "\n",
    "freq = [{}, {}, {}, {}, {}, {}, {}, {}, {}]\n",
    "wei_freq = [{}, {}, {}, {}, {}, {}, {}, {}, {}]\n",
    "count = [{}, {}, {}, {}, {}, {}, {}, {}, {}]\n",
    "titles = []\n",
    "\n",
    "for i in range(9):\n",
    "    \n",
    "    path = pos + files[i]\n",
    "    df = pd.read_csv(path)\n",
    "    articles = df['Title'].to_list()\n",
    "    titles.append(articles)\n",
    "    \n",
    "    for j in articles:\n",
    "        article = df[df['Title'] == j]['Article'].to_list()[0]\n",
    "        freq[i][j], c = frequency(article)\n",
    "        words = list(freq[i][j].keys())\n",
    "        wei_freq[i][j] = {}\n",
    "        \n",
    "        for k in words:\n",
    "            \n",
    "            try:\n",
    "                wei_freq[i][j][k] = freq[i][j][k] / dict_all[k]\n",
    "            except:\n",
    "                wei_freq[i][j][k] = 0\n",
    "            try:\n",
    "                count[i][k] = count[i][k] + c[k]\n",
    "            except:\n",
    "                count[i][k] = c[k]"
   ]
  },
  {
   "cell_type": "code",
   "execution_count": 33,
   "metadata": {},
   "outputs": [],
   "source": [
    "arti = []\n",
    "\n",
    "for i in range(9):\n",
    "    data = pd.read_csv(pos + files[i])\n",
    "    articles = []\n",
    "    for idx, row in data.iterrows():\n",
    "        articles.append(splite_words(row[2]))\n",
    "\n",
    "    # print(articles)\n",
    "\n",
    "    te = TransactionEncoder()\n",
    "    te_ary = te.fit(articles).transform(articles)\n",
    "    df = pd.DataFrame(te_ary, columns=te.columns_)\n",
    "    articles = np.array(articles)\n",
    "    arti.append(articles)\n",
    "    \n",
    "arti = np.array(arti)"
   ]
  },
  {
   "cell_type": "code",
   "execution_count": 143,
   "metadata": {},
   "outputs": [],
   "source": [
    "kword = ['trade', 'tariffs', 'jones', 'trump', 'impeachment', 'donald', 'house', 'investigation', 'according', 'labour']\n",
    "k_word = [[], [], [], [], [], [], [], [], [], []]\n",
    "\n",
    "\n",
    "for i in range(len(files)):\n",
    "    for j in range(len(titles[i])):\n",
    "        art = titles[i][j]\n",
    "        for k in range(len(kword)):\n",
    "            try:\n",
    "                a = wei_freq[i][art][kword[k]]\n",
    "            except:\n",
    "                a = 0\n",
    "                \n",
    "            k_word[k].append(a)\n",
    "\n",
    "for i in range(len(k_word)):\n",
    "    k_word[i] = np.array(k_word[i])\n",
    "    \n",
    "k_word = np.array(k_word)\n",
    "\n",
    "for i in range(len(k_word)):\n",
    "    k_word[i] = k_word[i] / np.mean(k_word[i])\n",
    "    \n",
    "kword_ = k_word.transpose()\n",
    "\n",
    "kmeans = KMeans(n_clusters = 5, random_state = 1).fit_predict(kword_)"
   ]
  },
  {
   "cell_type": "code",
   "execution_count": 144,
   "metadata": {},
   "outputs": [
    {
     "name": "stdout",
     "output_type": "stream",
     "text": [
      "1031\n"
     ]
    },
    {
     "data": {
      "image/png": "[encoded data removed]",
      "text/plain": [
       "<Figure size 432x288 with 1 Axes>"
      ]
     },
     "metadata": {
      "needs_background": "light"
     },
     "output_type": "display_data"
    }
   ],
   "source": [
    "a = 3\n",
    "b = 5\n",
    "print (len(k_word[b]))\n",
    "plt.scatter(k_word[a], k_word[b], c = kmeans)\n",
    "\n",
    "for i in range(1, 6):\n",
    "    x = np.linspace(0, min(4.5*i, 20), 1000)\n",
    "    y = 3.64*x/i\n",
    "    plt.plot(x,y,c='r',alpha = 0.2)\n",
    "    plt.xlim(-0.5,13)\n",
    "    plt.ylim(-1, 15)\n",
    "    plt.xlabel(kword[a])\n",
    "    plt.ylabel(kword[b])\n",
    "    \n",
    "x0 = np.linspace(0, 15, 1000)\n",
    "y0 = np.zeros(1000)\n",
    "\n",
    "y1 = np.linspace(0, 15, 1000)\n",
    "x1 = np.zeros(1000)\n",
    "\n",
    "plt.plot(x0, y0, c = 'g', alpha = 0.4)\n",
    "plt.plot(x1, y1, c = 'g', alpha = 0.4)\n",
    "plt.savefig('plot/' + 'dt.png')"
   ]
  },
  {
   "cell_type": "code",
   "execution_count": 188,
   "metadata": {},
   "outputs": [
    {
     "data": {
      "text/plain": [
       "<Figure size 432x288 with 0 Axes>"
      ]
     },
     "metadata": {},
     "output_type": "display_data"
    }
   ],
   "source": [
    "kword = ['trade', 'tariffs', 'jones', 'trump', 'impeachment', 'donald', 'house', 'investigation', 'according', 'labour']\n",
    "\n",
    "k_word = [[], [], [], [], [], [], [], [], [], []]\n",
    "\n",
    "\n",
    "for i in range(len(files)):\n",
    "    for j in range(len(titles[i])):\n",
    "        art = titles[i][j]\n",
    "        for k in range(len(kword)):\n",
    "            try:\n",
    "                a = wei_freq[i][art][kword[k]]\n",
    "            except:\n",
    "                a = 0\n",
    "                \n",
    "            k_word[k].append(a)\n",
    "\n",
    "for i in range(len(k_word)):\n",
    "    k_word[i] = np.array(k_word[i])\n",
    "    \n",
    "k_word = np.array(k_word)\n",
    "\n",
    "for i in range(len(k_word)):\n",
    "    k_word[i] = k_word[i] / np.mean(k_word[i])\n",
    "    \n",
    "kword_ = k_word.transpose()\n",
    "\n",
    "K = 6\n",
    "kmeans = KMeans(n_clusters = K, random_state = 1).fit_predict(kword_)\n",
    "\n",
    "#a = 1\n",
    "#b = 2\n",
    "#print (len(k_word[b]))\n",
    "#plt.scatter(k_word[a], k_word[b], c = kmeans)\n",
    "#plt.xlabel(kword[a])\n",
    "#plt.ylabel(kword[b])\n",
    "\n",
    "\n",
    "for i in range(9):\n",
    "    for j in range(i+1, 10):\n",
    "        plt.scatter(k_word[i], k_word[j], c = kmeans)\n",
    "        plt.xlabel(kword[i])\n",
    "        plt.ylabel(kword[j])\n",
    "        s = 'plot/' + str(kword[i]) + '_' + str(kword[j]) + '.png'\n",
    "        plt.savefig(s)\n",
    "        plt.clf()"
   ]
  },
  {
   "cell_type": "code",
   "execution_count": 158,
   "metadata": {},
   "outputs": [
    {
     "name": "stdout",
     "output_type": "stream",
     "text": [
      "659\n"
     ]
    }
   ],
   "source": [
    "cluster = []\n",
    "for i in range(K):\n",
    "    cluster.append(np.where(kmeans == i)[0])\n",
    "    \n",
    "print (len(np.where(kmeans == 0)[0]))"
   ]
  },
  {
   "cell_type": "code",
   "execution_count": 159,
   "metadata": {},
   "outputs": [
    {
     "name": "stdout",
     "output_type": "stream",
     "text": [
      "[array([   0,    1,    2,    3,    4,    5,    6,    7,    8,    9,   11,\n",
      "         12,   13,   14,   16,   17,   18,   20,   21,   22,   23,   24,\n",
      "         25,   26,   27,   29,   30,   31,   32,   33,   36,   37,   38,\n",
      "         42,   43,   44,   45,   46,   47,   48,   49,   50,   53,   55,\n",
      "         56,   57,   59,   61,   62,   63,   64,   65,   68,   69,   74,\n",
      "         76,   78,   80,   81,   82,   83,   84,   86,   87,   88,   89,\n",
      "         91,   92,   93,   94,   95,   96,   97,  101,  102,  103,  104,\n",
      "        106,  107,  108,  109,  113,  114,  116,  118,  121,  122,  123,\n",
      "        127,  129,  130,  133,  134,  136,  137,  139,  140,  142,  146,\n",
      "        147,  148,  149,  150,  151,  152,  154,  155,  157,  158,  159,\n",
      "        160,  161,  162,  163,  164,  166,  167,  168,  169,  172,  173,\n",
      "        174,  175,  176,  177,  178,  179,  183,  184,  185,  186,  187,\n",
      "        189,  190,  191,  193,  194,  195,  196,  197,  198,  199,  200,\n",
      "        201,  203,  204,  205,  206,  207,  209,  211,  214,  216,  217,\n",
      "        218,  220,  222,  224,  225,  226,  227,  228,  229,  230,  232,\n",
      "        233,  234,  235,  236,  237,  238,  240,  242,  243,  251,  255,\n",
      "        257,  259,  260,  261,  265,  266,  267,  269,  270,  272,  276,\n",
      "        283,  288,  289,  302,  308,  309,  310,  313,  315,  318,  321,\n",
      "        326,  330,  331,  335,  336,  339,  340,  341,  349,  350,  359,\n",
      "        360,  362,  366,  367,  368,  372,  374,  375,  376,  379,  381,\n",
      "        382,  384,  387,  390,  394,  395,  397,  399,  408,  410,  412,\n",
      "        414,  415,  416,  419,  422,  425,  427,  429,  432,  433,  434,\n",
      "        435,  436,  438,  439,  440,  441,  442,  443,  444,  445,  446,\n",
      "        447,  448,  449,  452,  453,  454,  455,  456,  457,  458,  459,\n",
      "        461,  462,  463,  464,  465,  466,  467,  468,  469,  470,  471,\n",
      "        472,  473,  474,  475,  476,  478,  479,  480,  481,  482,  484,\n",
      "        485,  486,  487,  488,  489,  490,  491,  492,  493,  494,  495,\n",
      "        496,  499,  500,  501,  502,  503,  504,  505,  506,  507,  508,\n",
      "        509,  510,  511,  512,  513,  514,  515,  516,  517,  518,  519,\n",
      "        520,  521,  522,  523,  524,  525,  527,  528,  529,  530,  531,\n",
      "        532,  533,  534,  536,  537,  538,  539,  540,  541,  543,  545,\n",
      "        546,  547,  548,  549,  550,  551,  552,  554,  555,  556,  557,\n",
      "        558,  559,  561,  563,  564,  565,  566,  567,  568,  569,  570,\n",
      "        571,  572,  573,  574,  575,  576,  577,  578,  579,  580,  581,\n",
      "        582,  583,  584,  585,  586,  587,  588,  589,  590,  591,  592,\n",
      "        593,  594,  595,  596,  597,  598,  599,  600,  601,  603,  604,\n",
      "        605,  606,  607,  608,  609,  610,  612,  613,  614,  615,  617,\n",
      "        619,  620,  621,  623,  624,  625,  626,  627,  629,  630,  632,\n",
      "        634,  635,  636,  638,  639,  641,  642,  643,  644,  645,  646,\n",
      "        647,  648,  650,  651,  652,  653,  654,  655,  656,  658,  660,\n",
      "        661,  662,  663,  664,  665,  666,  667,  668,  669,  671,  672,\n",
      "        673,  677,  678,  680,  682,  684,  685,  686,  688,  689,  690,\n",
      "        691,  693,  694,  696,  698,  703,  704,  705,  707,  708,  712,\n",
      "        713,  714,  715,  716,  718,  719,  721,  723,  725,  726,  728,\n",
      "        730,  736,  737,  740,  741,  742,  744,  747,  751,  753,  756,\n",
      "        757,  758,  760,  761,  763,  764,  769,  770,  771,  772,  774,\n",
      "        775,  776,  777,  778,  779,  781,  782,  783,  785,  790,  792,\n",
      "        794,  797,  798,  800,  801,  802,  803,  804,  805,  806,  808,\n",
      "        809,  810,  811,  812,  813,  814,  815,  816,  817,  818,  819,\n",
      "        820,  821,  822,  823,  824,  825,  826,  827,  828,  829,  830,\n",
      "        831,  832,  833,  834,  835,  836,  837,  839,  840,  841,  842,\n",
      "        843,  844,  845,  846,  847,  848,  849,  850,  855,  856,  857,\n",
      "        860,  861,  862,  867,  874,  883,  885,  888,  891,  892,  893,\n",
      "        900,  908,  909,  912,  920,  922,  924,  929,  933,  937,  941,\n",
      "        946,  948,  950,  960,  961,  963,  966,  968,  969,  970,  971,\n",
      "        972,  973,  974,  975,  976,  977,  978,  979,  980,  981,  982,\n",
      "        983,  984,  985,  986,  987,  988,  989,  990,  991,  992,  993,\n",
      "        995,  996,  997,  998,  999, 1000, 1001, 1002, 1003, 1004, 1005,\n",
      "       1006, 1008, 1009, 1010, 1011, 1012, 1013, 1014, 1015, 1016, 1018,\n",
      "       1019, 1020, 1021, 1022, 1023, 1024, 1026, 1028, 1029, 1030]), array([ 28,  40,  41,  90,  98, 100, 120, 124, 125, 131, 135, 138, 145,\n",
      "       153, 171, 212, 223, 239, 611, 616, 618, 622, 633, 637, 795, 799,\n",
      "       838, 967]), array([ 15,  35,  39,  51,  60,  66,  75,  79, 110, 112, 115, 126, 208,\n",
      "       213, 221, 477]), array([  54,   70,  247,  253,  300,  301,  305,  314,  328,  345,  388,\n",
      "        406,  460,  483,  497,  535,  542,  553,  560,  562,  628,  767,\n",
      "        796,  859,  864,  882,  895,  907,  926, 1007, 1017, 1027]), array([ 73,  99, 128, 670, 674, 675, 676, 679, 681, 683, 692, 695, 697,\n",
      "       699, 700, 701, 702, 709, 710, 711, 717, 720, 722, 727, 729, 731,\n",
      "       732, 733, 734, 735, 738, 743, 745, 746, 748, 749, 750, 752, 755,\n",
      "       786]), array([  10,   19,   71,   77,   85,  111,  141,  143,  181,  202,  219,\n",
      "        245,  246,  249,  250,  252,  256,  258,  268,  271,  273,  275,\n",
      "        277,  280,  282,  284,  285,  287,  291,  292,  294,  295,  296,\n",
      "        303,  304,  306,  307,  312,  316,  317,  319,  320,  322,  325,\n",
      "        332,  333,  334,  337,  338,  342,  343,  347,  348,  351,  354,\n",
      "        356,  363,  364,  365,  369,  370,  371,  373,  377,  378,  383,\n",
      "        385,  391,  392,  393,  396,  398,  401,  403,  405,  407,  411,\n",
      "        420,  421,  423,  431,  437,  450,  451,  498,  526,  544,  602,\n",
      "        687,  762,  766,  768,  787,  788,  789,  791,  858,  866,  868,\n",
      "        869,  870,  872,  875,  876,  877,  879,  881,  886,  889,  890,\n",
      "        894,  896,  898,  901,  902,  904,  905,  910,  914,  915,  916,\n",
      "        917,  918,  919,  921,  923,  925,  927,  930,  931,  932,  935,\n",
      "        942,  944,  947,  949,  955,  956,  957,  958,  959,  962,  964,\n",
      "        965,  994, 1025]), array([ 34,  52,  58,  67,  72, 105, 117, 119, 132, 144, 156, 165, 170,\n",
      "       180, 182, 188, 192, 210, 215, 231, 241, 631, 640, 649, 657, 659,\n",
      "       706, 724, 754, 807, 871, 934]), array([244, 248, 254, 262, 263, 264, 274, 278, 279, 281, 286, 290, 293,\n",
      "       297, 298, 299, 311, 323, 324, 327, 329, 344, 346, 352, 353, 355,\n",
      "       357, 358, 361, 380, 386, 389, 400, 402, 404, 409, 413, 417, 418,\n",
      "       424, 426, 428, 430, 759, 765, 773, 780, 784, 793, 851, 852, 853,\n",
      "       854, 863, 865, 873, 878, 880, 884, 887, 897, 899, 903, 906, 911,\n",
      "       913, 928, 936, 938, 939, 940, 943, 945, 951, 952, 953, 954]), array([739])]\n"
     ]
    }
   ],
   "source": [
    "print (cluster)"
   ]
  },
  {
   "cell_type": "code",
   "execution_count": 184,
   "metadata": {},
   "outputs": [
    {
     "name": "stdout",
     "output_type": "stream",
     "text": [
      "[0, 244, 433, 611, 664, 756, 794, 850, 968, 1031]\n"
     ]
    }
   ],
   "source": [
    "index = [0] * 10\n",
    "index[1] = len(titles[0])\n",
    "for i in range(8):\n",
    "    index[i+2] = index[i+1] + len(titles[i+1])\n",
    "    \n",
    "print (index)"
   ]
  },
  {
   "cell_type": "code",
   "execution_count": 192,
   "metadata": {},
   "outputs": [
    {
     "name": "stdout",
     "output_type": "stream",
     "text": [
      "ABC_Business.csv\n",
      "[0, 0, 0, 0, 0, 0, 0, 0, 0, 0, 0, 0, 0, 0, 0, 4, 0, 0, 0, 0, 0, 0, 0, 0, 0, 0, 0, 0, 1, 0, 0, 0, 0, 0, 0, 4, 0, 0, 0, 4, 1, 1, 0, 0, 0, 0, 0, 0, 0, 0, 0, 4, 1, 0, 3, 0, 0, 0, 1, 0, 4, 0, 0, 0, 0, 0, 4, 0, 0, 0, 3, 0, 1, 2, 0, 4, 0, 0, 0, 4, 0, 0, 0, 0, 0, 0, 0, 0, 0, 0, 1, 0, 0, 0, 0, 0, 0, 0, 1, 2, 1, 0, 0, 0, 0, 1, 0, 0, 0, 0, 4, 0, 4, 0, 0, 4, 0, 1, 0, 1, 1, 0, 0, 0, 1, 1, 4, 0, 2, 0, 0, 1, 1, 0, 0, 1, 0, 0, 1, 0, 0, 0, 0, 0, 0, 1, 0, 0, 0, 0, 0, 0, 0, 1, 0, 0, 1, 0, 0, 0, 0, 0, 0, 0, 0, 0, 0, 0, 0, 0, 0, 1, 0, 0, 0, 0, 0, 0, 0, 0, 1, 0, 1, 0, 0, 0, 0, 0, 1, 0, 0, 0, 0, 0, 0, 0, 0, 0, 0, 0, 0, 0, 0, 0, 0, 0, 0, 0, 4, 0, 1, 0, 1, 4, 0, 0, 0, 0, 0, 0, 0, 4, 0, 1, 0, 0, 0, 0, 0, 0, 0, 0, 0, 0, 0, 0, 0, 0, 0, 1, 0, 0, 0, 0]\n",
      "ABC_Politics.csv\n",
      "[5, 5, 0, 3, 5, 0, 5, 0, 0, 3, 5, 0, 0, 0, 0, 0, 0, 0, 5, 5, 5, 0, 0, 0, 0, 0, 0, 0, 0, 0, 5, 0, 0, 0, 5, 5, 0, 5, 0, 0, 0, 5, 5, 0, 0, 0, 5, 0, 0, 5, 0, 0, 0, 5, 5, 5, 3, 3, 0, 0, 0, 3, 0, 0, 0, 0, 0, 5, 0, 0, 3, 0, 0, 0, 0, 0, 0, 0, 3, 5, 5, 0, 0, 5, 3, 5, 0, 0, 0, 0, 5, 0, 0, 0, 5, 0, 0, 0, 0, 5, 5, 3, 5, 5, 0, 0, 0, 0, 5, 5, 0, 5, 5, 5, 5, 0, 0, 5, 0, 0, 0, 0, 0, 0, 0, 0, 0, 0, 0, 0, 0, 0, 0, 0, 0, 0, 5, 0, 0, 0, 0, 0, 5, 0, 3, 5, 0, 0, 5, 0, 0, 0, 0, 0, 5, 0, 5, 0, 5, 0, 5, 0, 3, 5, 0, 5, 0, 0, 0, 5, 0, 0, 0, 5, 5, 0, 0, 0, 0, 5, 5, 0, 5, 0, 5, 0, 5, 0, 0]\n",
      "ABC_US.csv\n",
      "[0, 0, 0, 0, 0, 0, 0, 0, 0, 0, 0, 0, 0, 0, 0, 0, 0, 0, 0, 0, 0, 0, 0, 0, 0, 0, 0, 3, 0, 0, 0, 0, 0, 0, 0, 0, 0, 0, 0, 0, 0, 0, 0, 0, 4, 0, 0, 0, 0, 0, 3, 0, 0, 0, 0, 0, 0, 0, 0, 0, 0, 0, 0, 0, 3, 5, 0, 0, 0, 0, 0, 0, 0, 0, 0, 0, 0, 0, 0, 0, 0, 0, 0, 0, 0, 0, 0, 0, 0, 0, 0, 0, 0, 0, 0, 0, 0, 0, 0, 0, 0, 0, 3, 0, 0, 0, 0, 0, 0, 3, 0, 3, 0, 0, 0, 0, 0, 0, 0, 0, 3, 0, 0, 0, 0, 0, 0, 3, 0, 3, 0, 0, 0, 0, 0, 0, 0, 0, 0, 0, 0, 0, 0, 0, 0, 0, 0, 0, 0, 0, 0, 0, 0, 0, 0, 0, 0, 0, 0, 0, 0, 0, 0, 0, 0, 0, 0, 0, 0, 0, 0, 0, 0, 0, 0, 0, 0, 0]\n",
      "BBC_Business.csv\n",
      "[1, 0, 0, 0, 0, 1, 0, 1, 0, 0, 0, 1, 0, 0, 0, 0, 0, 3, 0, 0, 0, 0, 1, 0, 0, 0, 1, 0, 0, 1, 0, 0, 0, 0, 0, 0, 0, 0, 1, 0, 0, 0, 0, 0, 0, 0, 0, 0, 1, 0, 0, 0, 0]\n",
      "BBC_Politics.csv\n",
      "[0, 0, 0, 0, 0, 0, 2, 0, 0, 0, 2, 2, 2, 0, 0, 0, 0, 2, 0, 2, 0, 0, 0, 0, 0, 0, 0, 0, 2, 0, 0, 2, 0, 2, 0, 2, 2, 2, 0, 0, 0, 0, 0, 0, 0, 2, 2, 0, 0, 0, 0, 0, 0, 2, 0, 0, 2, 0, 2, 0, 0, 0, 0, 2, 0, 2, 0, 2, 2, 2, 2, 2, 0, 0, 2, 2, 0, 0, 0, 2, 0, 2, 2, 0, 2, 2, 2, 0, 2, 0, 0, 2]\n",
      "BBC_US_Canada.csv\n",
      "[0, 0, 0, 5, 0, 0, 0, 0, 0, 5, 0, 3, 0, 0, 0, 0, 0, 5, 0, 0, 0, 0, 0, 0, 5, 0, 0, 0, 5, 0, 2, 0, 0, 5, 0, 0, 0, 5]\n",
      "CNN_Business.csv\n",
      "[0, 1, 3, 0, 0, 1, 0, 0, 0, 0, 0, 0, 0, 0, 0, 0, 0, 0, 0, 0, 0, 0, 0, 0, 0, 0, 0, 0, 0, 0, 0, 0, 0, 0, 0, 0, 0, 0, 0, 0, 0, 0, 0, 0, 1, 0, 0, 0, 0, 0, 0, 0, 0, 0, 0, 0]\n",
      "CNN_Politics.csv\n",
      "[0, 5, 5, 5, 5, 0, 0, 0, 0, 3, 0, 0, 0, 5, 3, 5, 0, 0, 0, 0, 0, 0, 0, 5, 0, 5, 0, 5, 5, 0, 5, 0, 3, 0, 5, 0, 0, 5, 0, 0, 0, 0, 0, 0, 0, 3, 0, 5, 0, 5, 0, 0, 0, 5, 0, 0, 5, 3, 0, 0, 0, 5, 0, 5, 0, 0, 5, 0, 0, 0, 0, 0, 0, 0, 0, 0, 3, 0, 5, 0, 0, 5, 0, 0, 1, 0, 5, 0, 5, 5, 5, 0, 0, 5, 0, 5, 0, 0, 0, 0, 0, 5, 5, 5, 5, 0, 5, 0, 0, 5, 0, 0, 5, 0, 0, 0, 0, 1]\n",
      "CNN_US.csv\n",
      "[0, 0, 0, 0, 0, 0, 0, 0, 0, 0, 0, 0, 0, 0, 0, 0, 0, 0, 0, 0, 0, 0, 0, 0, 0, 0, 0, 0, 0, 0, 0, 0, 0, 0, 0, 0, 0, 0, 0, 3, 0, 0, 0, 0, 0, 0, 0, 0, 0, 3, 0, 0, 0, 0, 0, 0, 0, 0, 0, 3, 0, 0, 0]\n"
     ]
    }
   ],
   "source": [
    "km = []\n",
    "kmeans = list(kmeans)\n",
    "for i in range(9):\n",
    "    print (files[i])\n",
    "    km.append(np.array(kmeans[index[i]:(index[i+1])]))\n",
    "    print (kmeans[index[i]:(index[i+1])])"
   ]
  },
  {
   "cell_type": "code",
   "execution_count": 197,
   "metadata": {},
   "outputs": [
    {
     "name": "stdout",
     "output_type": "stream",
     "text": [
      "<class 'numpy.ndarray'>\n",
      "30\n"
     ]
    }
   ],
   "source": [
    "print (type(km[0]))\n",
    "print (len(np.where(km[0] == 1)[0]))"
   ]
  },
  {
   "cell_type": "code",
   "execution_count": 207,
   "metadata": {},
   "outputs": [
    {
     "name": "stdout",
     "output_type": "stream",
     "text": [
      "[[194  30   3   2  15   0]\n",
      " [123   0   0  11   0  55]\n",
      " [167   0   0   9   1   1]\n",
      " [ 43   9   0   1   0   0]\n",
      " [ 58   0  34   0   0   0]\n",
      " [ 29   0   1   1   0   7]\n",
      " [ 52   3   0   1   0   0]\n",
      " [ 75   2   0   6   0  35]\n",
      " [ 60   0   0   3   0   0]]\n"
     ]
    }
   ],
   "source": [
    "num = np.zeros(9)\n",
    "arr = []\n",
    "for i in range(9):\n",
    "    num[i] = len(km[i])\n",
    "    c0 = len(np.where(km[i] == 0)[0])\n",
    "    c1 = len(np.where(km[i] == 1)[0])\n",
    "    c2 = len(np.where(km[i] == 2)[0])\n",
    "    c3 = len(np.where(km[i] == 3)[0])\n",
    "    c4 = len(np.where(km[i] == 4)[0])\n",
    "    c5 = len(np.where(km[i] == 5)[0])\n",
    "    l = [c0, c1, c2, c3, c4, c5]\n",
    "    arr.append(np.array(l))\n",
    "arr = np.array(arr)\n",
    "print (arr)"
   ]
  },
  {
   "cell_type": "code",
   "execution_count": 209,
   "metadata": {},
   "outputs": [
    {
     "data": {
      "text/plain": [
       "0.10276115690891752"
      ]
     },
     "execution_count": 209,
     "metadata": {},
     "output_type": "execute_result"
    }
   ],
   "source": [
    "scipy.spatial.distance.cosine(arr[0], arr[1])"
   ]
  },
  {
   "cell_type": "code",
   "execution_count": 227,
   "metadata": {},
   "outputs": [],
   "source": [
    "cos = np.zeros([9,9])\n",
    "for i in range(9):\n",
    "    for j in range(9):\n",
    "        a = scipy.spatial.distance.cosine(arr[i], arr[j]) *100\n",
    "        cos[i][j] = round(a, 2)"
   ]
  },
  {
   "cell_type": "code",
   "execution_count": 228,
   "metadata": {},
   "outputs": [
    {
     "name": "stdout",
     "output_type": "stream",
     "text": [
      "[ 0.   10.28  1.52  0.45 14.24  4.25  0.76 10.54  1.55]\n",
      "[10.28  0.    8.47 10.78 21.51  1.84  9.03  0.05  8.72]\n",
      "[ 1.52  8.47  0.    2.17 13.86  2.72  0.23  9.14  0.  ]\n",
      "[ 0.45 10.78  2.17  0.   15.58  4.91  1.1  10.93  2.15]\n",
      "[14.24 21.51 13.86 15.58  0.   14.54 13.89 22.05 13.84]\n",
      "[ 4.25  1.84  2.72  4.91 14.54  0.    3.02  2.14  2.85]\n",
      "[ 0.76  9.03  0.23  1.1  13.89  3.02  0.    9.53  0.21]\n",
      "[10.54  0.05  9.14 10.93 22.05  2.14  9.53  0.    9.4 ]\n",
      "[ 1.55  8.72  0.    2.15 13.84  2.85  0.21  9.4   0.  ]\n"
     ]
    }
   ],
   "source": [
    "for i in range(9):\n",
    "    print (cos[i])"
   ]
  },
  {
   "cell_type": "code",
   "execution_count": 1,
   "metadata": {},
   "outputs": [
    {
     "name": "stdout",
     "output_type": "stream",
     "text": [
      "91.28182636077374\n"
     ]
    }
   ],
   "source": [
    "print ((74 + 128 + 117 + 179.5 + 208 + 79) / (80 + 130 + 120 + 195 + 225 + 105) * 50 + 241 / 260 * 15 + 223 / 260 * 25 + 10)"
   ]
  },
  {
   "cell_type": "code",
   "execution_count": null,
   "metadata": {},
   "outputs": [],
   "source": []
  }
 ],
 "metadata": {
  "kernelspec": {
   "display_name": "Python 3",
   "language": "python",
   "name": "python3"
  },
  "language_info": {
   "codemirror_mode": {
    "name": "ipython",
    "version": 3
   },
   "file_extension": ".py",
   "mimetype": "text/x-python",
   "name": "python",
   "nbconvert_exporter": "python",
   "pygments_lexer": "ipython3",
   "version": "3.7.4"
  }
 },
 "nbformat": 4,
 "nbformat_minor": 4
}
